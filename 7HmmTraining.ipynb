{
 "cells": [
  {
   "cell_type": "markdown",
   "metadata": {},
   "source": [
    "# 7) Hidden markov models - Training"
   ]
  },
  {
   "cell_type": "markdown",
   "metadata": {},
   "source": [
    "* I.I.D Assumption\n",
    "* Markov chains\n",
    "* Hidden markov models\n",
    "* 3 Problems for Hmms\n",
    "    * Find P(X|Y)\n",
    "    * Given observation seq. Whats most likely underlying state sequence? (Decoding)\n",
    "    * Given observation seq. Find best parameters for the Hmm (Training)\n",
    "* Training\n",
    "    * Training by counting\n",
    "    * Viterbi training\n",
    "    * Expectation maximization\n"
   ]
  },
  {
   "cell_type": "code",
   "execution_count": null,
   "metadata": {
    "collapsed": true
   },
   "outputs": [],
   "source": []
  },
  {
   "cell_type": "code",
   "execution_count": null,
   "metadata": {
    "collapsed": true
   },
   "outputs": [],
   "source": []
  }
 ],
 "metadata": {
  "kernelspec": {
   "display_name": "Python 3",
   "language": "python",
   "name": "python3"
  },
  "language_info": {
   "codemirror_mode": {
    "name": "ipython",
    "version": 3
   },
   "file_extension": ".py",
   "mimetype": "text/x-python",
   "name": "python",
   "nbconvert_exporter": "python",
   "pygments_lexer": "ipython3",
   "version": "3.6.1"
  }
 },
 "nbformat": 4,
 "nbformat_minor": 2
}
