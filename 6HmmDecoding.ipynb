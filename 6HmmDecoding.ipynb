{
 "cells": [
  {
   "cell_type": "markdown",
   "metadata": {},
   "source": [
    "#  6) Hidden markov models - Decoding"
   ]
  },
  {
   "cell_type": "markdown",
   "metadata": {},
   "source": [
    "* I.I.D Assumption\n",
    "* Markov chains\n",
    "* Hidden markov models\n",
    "* 3 Problems for Hmms\n",
    "    * Find P(X|Y)\n",
    "    * Given observation seq. Whats most likely underlying state sequence? (Decoding)\n",
    "    * Given observation seq. Find best parameters for the Hmm (Training)\n",
    "* Decoding\n",
    "    * Viterbi - Find best explanation for observation sequence X: $Z^\\ast = arg max_{Z}P(X,Z|\\Theta)$\n",
    "    * Posterior - Given X of length n, whats most likely state to be in at time n?\n"
   ]
  },
  {
   "cell_type": "code",
   "execution_count": null,
   "metadata": {
    "collapsed": true
   },
   "outputs": [],
   "source": []
  }
 ],
 "metadata": {
  "kernelspec": {
   "display_name": "Python 3",
   "language": "python",
   "name": "python3"
  },
  "language_info": {
   "codemirror_mode": {
    "name": "ipython",
    "version": 3
   },
   "file_extension": ".py",
   "mimetype": "text/x-python",
   "name": "python",
   "nbconvert_exporter": "python",
   "pygments_lexer": "ipython3",
   "version": "3.6.1"
  }
 },
 "nbformat": 4,
 "nbformat_minor": 2
}
